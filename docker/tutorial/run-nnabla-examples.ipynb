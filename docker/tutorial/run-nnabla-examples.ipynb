{
 "cells": [
  {
   "cell_type": "markdown",
   "metadata": {},
   "source": [
    "The following command executes training of Deep Convolutional GAN on MNIST dataset. It takes a couple of minutes on an average GPU."
   ]
  },
  {
   "cell_type": "code",
   "execution_count": null,
   "metadata": {
    "scrolled": false
   },
   "outputs": [],
   "source": [
    "%run nnabla-examples/image-classification/mnist-collection/dcgan.py -c cudnn -i 7000"
   ]
  },
  {
   "cell_type": "markdown",
   "metadata": {},
   "source": [
    "Run the following block to show generated fake images using the trained model."
   ]
  },
  {
   "cell_type": "code",
   "execution_count": null,
   "metadata": {},
   "outputs": [],
   "source": [
    "%%markdown\n",
    "* itr=999\n",
    "![image](tmp.monitor.dcgan/Fake-images/000999.png)\n",
    "* itr=1999\n",
    "![image](tmp.monitor.dcgan/Fake-images/001999.png)\n",
    "* itr=2999\n",
    "![image](tmp.monitor.dcgan/Fake-images/002999.png)\n",
    "* itr=3999\n",
    "![image](tmp.monitor.dcgan/Fake-images/003999.png)\n",
    "* itr=4999\n",
    "![image](tmp.monitor.dcgan/Fake-images/004999.png)\n",
    "* itr=5999\n",
    "![image](tmp.monitor.dcgan/Fake-images/005999.png)\n",
    "* itr=6999\n",
    "![image](tmp.monitor.dcgan/Fake-images/006999.png)"
   ]
  },
  {
   "cell_type": "markdown",
   "metadata": {},
   "source": [
    "In this demo, the training is stopped at 7000 iteration. More iterations should give better quality results.\n",
    "\n",
    "You can find the source code of [dcgan.py on GitHub](https://github.com/sony/nnabla-examples/blob/master/image-classification/mnist-collection/dcgan.py)."
   ]
  }
 ],
 "metadata": {
  "kernelspec": {
   "display_name": "Python 3",
   "language": "python",
   "name": "python3"
  },
  "language_info": {
   "codemirror_mode": {
    "name": "ipython",
    "version": 3
   },
   "file_extension": ".py",
   "mimetype": "text/x-python",
   "name": "python",
   "nbconvert_exporter": "python",
   "pygments_lexer": "ipython3",
   "version": "3.8.8"
  }
 },
 "nbformat": 4,
 "nbformat_minor": 2
}
